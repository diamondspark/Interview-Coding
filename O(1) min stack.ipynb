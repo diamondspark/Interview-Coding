{
 "cells": [
  {
   "cell_type": "code",
   "execution_count": 1,
   "metadata": {},
   "outputs": [],
   "source": [
    "class RankNode(object):\n",
    "    def __init__(self,num,min_till_now):\n",
    "        self.num = num\n",
    "        self.mtn = min_till_now"
   ]
  },
  {
   "cell_type": "code",
   "execution_count": 22,
   "metadata": {},
   "outputs": [],
   "source": [
    "class MinStack(object):\n",
    "    def __init__(self):\n",
    "        self.stack=[]\n",
    "    \n",
    "    def push(self,num):\n",
    "        if len(self.stack)==0:\n",
    "            rn = RankNode(num,num)\n",
    "        else:\n",
    "            if num>self.stack[-1].mtn:\n",
    "                rn = RankNode(num,self.stack[-1].mtn)\n",
    "            else:\n",
    "                rn = RankNode(num,num)\n",
    "        self.stack.append(rn)\n",
    "        \n",
    "    def getmin(self):\n",
    "        #TODO if stack is empty return none \n",
    "        return self.stack[-1].mtn\n",
    "    \n",
    "    def pop(self):\n",
    "        #TODO if stack is empty return none \n",
    "        return self.stack.pop().num"
   ]
  },
  {
   "cell_type": "markdown",
   "metadata": {},
   "source": [
    "# Driver"
   ]
  },
  {
   "cell_type": "code",
   "execution_count": 23,
   "metadata": {},
   "outputs": [],
   "source": [
    "minstack = MinStack()\n",
    "minstack.push(1)\n",
    "minstack.push(2)\n",
    "minstack.push(0)"
   ]
  },
  {
   "cell_type": "code",
   "execution_count": 24,
   "metadata": {},
   "outputs": [
    {
     "name": "stdout",
     "output_type": "stream",
     "text": [
      "0\n",
      "0\n"
     ]
    },
    {
     "data": {
      "text/plain": [
       "1"
      ]
     },
     "execution_count": 24,
     "metadata": {},
     "output_type": "execute_result"
    }
   ],
   "source": [
    "print(minstack.getmin())\n",
    "print(minstack.pop())\n",
    "minstack.getmin()"
   ]
  },
  {
   "cell_type": "code",
   "execution_count": null,
   "metadata": {},
   "outputs": [],
   "source": []
  }
 ],
 "metadata": {
  "kernelspec": {
   "display_name": "Python 3",
   "language": "python",
   "name": "python3"
  },
  "language_info": {
   "codemirror_mode": {
    "name": "ipython",
    "version": 3
   },
   "file_extension": ".py",
   "mimetype": "text/x-python",
   "name": "python",
   "nbconvert_exporter": "python",
   "pygments_lexer": "ipython3",
   "version": "3.6.1"
  }
 },
 "nbformat": 4,
 "nbformat_minor": 2
}
