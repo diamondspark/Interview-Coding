{
 "cells": [
  {
   "cell_type": "code",
   "execution_count": null,
   "metadata": {},
   "outputs": [],
   "source": [
    "def chocolate_distribution(arr,m):\n",
    "    sorted_arr = sorted(arr)\n",
    "    print(sorted_arr)\n",
    "    start,end = 0,m-1\n",
    "    global_min = sys.maxsize\n",
    "    ans=[]\n",
    "    while(end<len(sorted_arr)):\n",
    "        cur_min = sorted_arr[end]-sorted_arr[start]\n",
    "        print(cur_min,[sorted_arr[start],sorted_arr[end]])\n",
    "        if cur_min<global_min:\n",
    "            global_min=cur_min\n",
    "            ans=[sorted_arr[start],sorted_arr[end]]\n",
    "        start+=1\n",
    "        end+=1\n",
    "    return global_min,ans\n",
    "\n",
    "chocolate_distribution([12, 4, 7, 9, 2, 23, 25, 41,\n",
    "                 30, 40, 28, 42, 30, 44, 48, \n",
    "                 43, 50],7)\n",
    "    "
   ]
  }
 ],
 "metadata": {
  "kernelspec": {
   "display_name": "Python 3",
   "language": "python",
   "name": "python3"
  },
  "language_info": {
   "codemirror_mode": {
    "name": "ipython",
    "version": 3
   },
   "file_extension": ".py",
   "mimetype": "text/x-python",
   "name": "python",
   "nbconvert_exporter": "python",
   "pygments_lexer": "ipython3",
   "version": "3.6.1"
  }
 },
 "nbformat": 4,
 "nbformat_minor": 2
}
