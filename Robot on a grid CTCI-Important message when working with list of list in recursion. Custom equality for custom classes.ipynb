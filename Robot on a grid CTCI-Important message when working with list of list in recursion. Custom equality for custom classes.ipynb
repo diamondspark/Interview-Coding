{
 "cells": [
  {
   "cell_type": "markdown",
   "metadata": {},
   "source": [
    "# Recursive method"
   ]
  },
  {
   "cell_type": "code",
   "execution_count": 1,
   "metadata": {},
   "outputs": [],
   "source": [
    "import numpy as np"
   ]
  },
  {
   "cell_type": "code",
   "execution_count": 59,
   "metadata": {},
   "outputs": [
    {
     "data": {
      "text/plain": [
       "array([[ 0.,  0.,  0.],\n",
       "       [ 0.,  0.,  0.],\n",
       "       [ 0.,  0.,  0.]])"
      ]
     },
     "execution_count": 59,
     "metadata": {},
     "output_type": "execute_result"
    }
   ],
   "source": [
    "arr = np.zeros((3,3))\n",
    "arr"
   ]
  },
  {
   "cell_type": "markdown",
   "metadata": {},
   "source": [
    "Important message when working with list of list in recursion "
   ]
  },
  {
   "cell_type": "code",
   "execution_count": 60,
   "metadata": {},
   "outputs": [
    {
     "name": "stdout",
     "output_type": "stream",
     "text": [
      "[[2, 2], [1, 2], [0, 2], [0, 1], [0, 0]]\n",
      "[[2, 2], [1, 2], [1, 1], [0, 1], [0, 0]]\n",
      "[[2, 2], [1, 2], [1, 1], [1, 0], [0, 0]]\n",
      "[[2, 2], [2, 1], [1, 1], [0, 1], [0, 0]]\n",
      "[[2, 2], [2, 1], [1, 1], [1, 0], [0, 0]]\n",
      "[[2, 2], [2, 1], [2, 0], [1, 0], [0, 0]]\n"
     ]
    },
    {
     "data": {
      "text/plain": [
       "[[[2, 2], [1, 2], [0, 2], [0, 1], [0, 0]],\n",
       " [[2, 2], [1, 2], [1, 1], [0, 1], [0, 0]],\n",
       " [[2, 2], [1, 2], [1, 1], [1, 0], [0, 0]],\n",
       " [[2, 2], [2, 1], [1, 1], [0, 1], [0, 0]],\n",
       " [[2, 2], [2, 1], [1, 1], [1, 0], [0, 0]],\n",
       " [[2, 2], [2, 1], [2, 0], [1, 0], [0, 0]]]"
      ]
     },
     "execution_count": 60,
     "metadata": {},
     "output_type": "execute_result"
    }
   ],
   "source": [
    "def getPath(arr):\n",
    "    paths=[]\n",
    "    getPathHelper(arr, paths,[arr.shape[0]-1,arr.shape[0]-1])\n",
    "    return paths\n",
    "\n",
    "def getPathHelper(arr,paths,cur_loc,cur_path=[]):\n",
    "    r,c = cur_loc[0],cur_loc[1]\n",
    "    cur_path.append(cur_loc)\n",
    "\n",
    "    if r==c==0:\n",
    "        print(cur_path)\n",
    "        #key concept when working with list of list:\n",
    "        #Create a copy to append.\n",
    "        #Also notice use of pop() to recurse with 1 less element\n",
    "        paths.append(cur_path.copy())\n",
    "        cur_path.pop()\n",
    "        return cur_path\n",
    "    \n",
    "    elif r==0 and c>0:\n",
    "        cur_path= getPathHelper(arr,paths,[r,c-1],cur_path)\n",
    "    elif c==0 and r>0:\n",
    "        cur_path= getPathHelper(arr,paths,[r-1,c],cur_path)\n",
    "    else:\n",
    "        cur_path= getPathHelper(arr,paths,[r-1,c],cur_path)\n",
    "        cur_path= getPathHelper(arr,paths,[r,c-1],cur_path)\n",
    "        \n",
    "        \n",
    "    cur_path.pop()\n",
    "    return cur_path\n",
    "        \n",
    "getPath(arr)"
   ]
  },
  {
   "cell_type": "markdown",
   "metadata": {},
   "source": [
    "## Dynammic Programming"
   ]
  },
  {
   "cell_type": "code",
   "execution_count": 70,
   "metadata": {},
   "outputs": [],
   "source": [
    "class Point(object):\n",
    "    def __init__(self,x,y):\n",
    "        self.x=x\n",
    "        self.y = y\n",
    "        \n",
    "    def __eq__(self,other):\n",
    "        if not isinstance(other, Point):\n",
    "            return NotImplemented\n",
    "        if (self.x == other.x) and (self.y == other.y):\n",
    "            return True\n",
    "        return False\n",
    "    \n"
   ]
  },
  {
   "cell_type": "code",
   "execution_count": 72,
   "metadata": {},
   "outputs": [
    {
     "ename": "TypeError",
     "evalue": "unhashable type: 'Point'",
     "output_type": "error",
     "traceback": [
      "\u001b[0;31m---------------------------------------------------------------------------\u001b[0m",
      "\u001b[0;31mTypeError\u001b[0m                                 Traceback (most recent call last)",
      "\u001b[0;32m<ipython-input-72-c4007e865827>\u001b[0m in \u001b[0;36m<module>\u001b[0;34m()\u001b[0m\n\u001b[1;32m      1\u001b[0m \u001b[0mmy_dict\u001b[0m\u001b[0;34m=\u001b[0m\u001b[0;34m{\u001b[0m\u001b[0;34m}\u001b[0m\u001b[0;34m\u001b[0m\u001b[0m\n\u001b[1;32m      2\u001b[0m \u001b[0mp\u001b[0m \u001b[0;34m=\u001b[0m \u001b[0mPoint\u001b[0m\u001b[0;34m(\u001b[0m\u001b[0;36m2\u001b[0m\u001b[0;34m,\u001b[0m\u001b[0;36m2\u001b[0m\u001b[0;34m)\u001b[0m\u001b[0;34m\u001b[0m\u001b[0m\n\u001b[0;32m----> 3\u001b[0;31m \u001b[0mmy_dict\u001b[0m\u001b[0;34m[\u001b[0m\u001b[0mp\u001b[0m\u001b[0;34m]\u001b[0m\u001b[0;34m=\u001b[0m\u001b[0;36m1\u001b[0m\u001b[0;34m\u001b[0m\u001b[0m\n\u001b[0m\u001b[1;32m      4\u001b[0m \u001b[0mPoint\u001b[0m\u001b[0;34m(\u001b[0m\u001b[0;36m2\u001b[0m\u001b[0;34m,\u001b[0m\u001b[0;36m2\u001b[0m\u001b[0;34m)\u001b[0m \u001b[0;32min\u001b[0m \u001b[0mmy_dict\u001b[0m\u001b[0;34m\u001b[0m\u001b[0m\n",
      "\u001b[0;31mTypeError\u001b[0m: unhashable type: 'Point'"
     ]
    }
   ],
   "source": [
    "my_dict={}\n",
    "p = Point(2,2)\n",
    "my_dict[p]=1\n",
    "Point(2,2) in my_dict\n"
   ]
  },
  {
   "cell_type": "code",
   "execution_count": null,
   "metadata": {},
   "outputs": [],
   "source": []
  }
 ],
 "metadata": {
  "kernelspec": {
   "display_name": "Python 3",
   "language": "python",
   "name": "python3"
  },
  "language_info": {
   "codemirror_mode": {
    "name": "ipython",
    "version": 3
   },
   "file_extension": ".py",
   "mimetype": "text/x-python",
   "name": "python",
   "nbconvert_exporter": "python",
   "pygments_lexer": "ipython3",
   "version": "3.6.4"
  }
 },
 "nbformat": 4,
 "nbformat_minor": 2
}
