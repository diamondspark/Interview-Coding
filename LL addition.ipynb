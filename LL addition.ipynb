{
 "cells": [
  {
   "cell_type": "code",
   "execution_count": 1,
   "metadata": {},
   "outputs": [],
   "source": [
    "from LinkedList import LLNode"
   ]
  },
  {
   "cell_type": "code",
   "execution_count": 61,
   "metadata": {},
   "outputs": [],
   "source": [
    "class Addition(object):\n",
    "    def __init__(self,n1,n2): #n1,n2 = num\n",
    "        if n1==None:\n",
    "            self.n1= 0\n",
    "            self.n2 = n2\n",
    "        elif n2==None:\n",
    "            self.n1= n1\n",
    "            self.n2 = 0\n",
    "        else:\n",
    "            self.n1= n1\n",
    "            self.n2 = n2\n",
    "        \n",
    "    def add(self,carry):\n",
    "        addition = self.n1+self.n2+carry\n",
    "        self.sum = addition%10\n",
    "        self.carry = int(addition/10)"
   ]
  },
  {
   "cell_type": "code",
   "execution_count": 79,
   "metadata": {},
   "outputs": [],
   "source": [
    "import copy\n",
    "def addition_of_list(node1, node2):\n",
    "    #Empty cases\n",
    "    plus_prev = Addition(node1.val,node2.val)\n",
    "    plus_prev.add(0)\n",
    "    head= LLNode(plus_prev.sum)\n",
    "    tail = head\n",
    "    node1,node2 = node1.next, node2.next\n",
    "    while(node1!=None and node2!=None):\n",
    "        print(node1.val,node2.val)\n",
    "        plus_next = Addition(node1.val,node2.val)\n",
    "        plus_next.add(plus_prev.carry)\n",
    "        dummyNode = LLNode(plus_next.sum)\n",
    "        tail.next = dummyNode\n",
    "        tail = tail.next\n",
    "        plus_prev = plus_next\n",
    "        node1,node2 = node1.next, node2.next\n",
    "        \n",
    "    notnone = node2 if node1==None else node1 if node2==None else None\n",
    "    \n",
    "    while notnone!=None:\n",
    "        tail.next= LLNode(notnone.val+(1 if plus_prev.carry==1 else 0))\n",
    "        tail = tail.next\n",
    "        plus_prev.carry=0\n",
    "        notnone=notnone.next\n",
    "    \n",
    "    if plus_prev.carry!=0:\n",
    "        tail.next = LLNode(plus_prev.carry)\n",
    "        \n",
    "    return head\n"
   ]
  },
  {
   "cell_type": "code",
   "execution_count": 80,
   "metadata": {},
   "outputs": [
    {
     "name": "stdout",
     "output_type": "stream",
     "text": [
      "2\n",
      "4\n",
      "3\n",
      "-----------\n",
      "5\n"
     ]
    }
   ],
   "source": [
    "import copy\n",
    "list1 =[LLNode(2),LLNode(4),LLNode(3)]\n",
    "list2 =[LLNode(5)]#,LLNode(9),LLNode(2)]\n",
    "\n",
    "for i in range(len(list1)-1):\n",
    "    list1[i].next= list1[i+1]\n",
    "    \n",
    "for i in range(len(list2)-1):\n",
    "    list2[i].next= list2[i+1]\n",
    "    \n",
    "head1 = list1[0]\n",
    "head2 = list2[0]\n",
    "\n",
    "#Sanity check\n",
    "head = list1[0]\n",
    "while head!=None:\n",
    "    print(head.val)\n",
    "    head = head.next\n",
    "    \n",
    "print('-----------')\n",
    "head = list2[0]\n",
    "while head!=None:\n",
    "    print(head.val)\n",
    "    head = head.next"
   ]
  },
  {
   "cell_type": "code",
   "execution_count": 81,
   "metadata": {},
   "outputs": [],
   "source": [
    "ans= addition_of_list(head1,head2)"
   ]
  },
  {
   "cell_type": "code",
   "execution_count": 82,
   "metadata": {},
   "outputs": [
    {
     "name": "stdout",
     "output_type": "stream",
     "text": [
      "7\n",
      "4\n",
      "3\n"
     ]
    }
   ],
   "source": [
    "while ans!=None:\n",
    "    print(ans.val)\n",
    "    ans= ans.next"
   ]
  },
  {
   "cell_type": "code",
   "execution_count": 60,
   "metadata": {},
   "outputs": [],
   "source": [
    "p ='fno'\n",
    "notnone = 'mo' if p=='mo' else 'no' if p=='no' else None\n",
    "notnone"
   ]
  },
  {
   "cell_type": "code",
   "execution_count": null,
   "metadata": {},
   "outputs": [],
   "source": []
  }
 ],
 "metadata": {
  "kernelspec": {
   "display_name": "Python 3",
   "language": "python",
   "name": "python3"
  },
  "language_info": {
   "codemirror_mode": {
    "name": "ipython",
    "version": 3
   },
   "file_extension": ".py",
   "mimetype": "text/x-python",
   "name": "python",
   "nbconvert_exporter": "python",
   "pygments_lexer": "ipython3",
   "version": "3.6.1"
  }
 },
 "nbformat": 4,
 "nbformat_minor": 2
}
