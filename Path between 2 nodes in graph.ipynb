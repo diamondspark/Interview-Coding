{
 "cells": [
  {
   "cell_type": "code",
   "execution_count": 5,
   "metadata": {},
   "outputs": [],
   "source": [
    "## GeeksforGeeks graph def\n",
    "from collections import defaultdict\n",
    "\n",
    "class Graph:\n",
    "    def __init__(self):\n",
    "        self.graph = defaultdict(list)\n",
    "        \n",
    "    def addEdge(self,u,v):\n",
    "        self.graph[u].append(v)"
   ]
  },
  {
   "cell_type": "markdown",
   "metadata": {},
   "source": [
    "### Create Graph"
   ]
  },
  {
   "cell_type": "code",
   "execution_count": 8,
   "metadata": {},
   "outputs": [
    {
     "data": {
      "text/plain": [
       "defaultdict(list, {0: [1, 2], 1: [2], 2: [0, 3], 3: [3], 4: [4]})"
      ]
     },
     "execution_count": 8,
     "metadata": {},
     "output_type": "execute_result"
    }
   ],
   "source": [
    "g = Graph() \n",
    "g.addEdge(0, 1) \n",
    "g.addEdge(0, 2) \n",
    "g.addEdge(1, 2) \n",
    "g.addEdge(2, 0) \n",
    "g.addEdge(2, 3) \n",
    "g.addEdge(3, 3) \n",
    "g.addEdge(4, 4) \n",
    "\n",
    "g.graph"
   ]
  },
  {
   "cell_type": "markdown",
   "metadata": {},
   "source": [
    "### Check whether there is a path between given 2 nodes using DFS"
   ]
  },
  {
   "cell_type": "code",
   "execution_count": 13,
   "metadata": {},
   "outputs": [
    {
     "data": {
      "text/plain": [
       "False"
      ]
     },
     "execution_count": 13,
     "metadata": {},
     "output_type": "execute_result"
    }
   ],
   "source": [
    "def isPath(graph,u,v):\n",
    "    visited = [False]*len(graph)\n",
    "    DFS(graph,u,visited)\n",
    "    if visited[v]==True:\n",
    "        return True\n",
    "    else:\n",
    "        return False\n",
    "    \n",
    "def DFS(graph,u,visited):\n",
    "    visited[u]=True\n",
    "    for n in graph[u]:\n",
    "        if visited[n]==False:\n",
    "            DFS(graph,n,visited)\n",
    "            \n",
    "\n",
    "isPath(g.graph,0,4)\n",
    "    "
   ]
  },
  {
   "cell_type": "markdown",
   "metadata": {},
   "source": [
    "### If there is a path between 2 given nodes, return the path"
   ]
  },
  {
   "cell_type": "code",
   "execution_count": 44,
   "metadata": {},
   "outputs": [
    {
     "name": "stdout",
     "output_type": "stream",
     "text": [
      "0[]\n",
      "0 [0] 2 False\n",
      "1[]\n",
      "1 [0, 1] 2 False\n",
      "2[]\n",
      "2 [0, 1, 2] 2 True\n",
      "[[0, 1, 2]]\n",
      "2[[0]]\n",
      "2 [0, 2] 2 True\n",
      "[[0, 2], [0, 2]]\n"
     ]
    },
    {
     "data": {
      "text/plain": [
       "[[], []]"
      ]
     },
     "execution_count": 44,
     "metadata": {},
     "output_type": "execute_result"
    }
   ],
   "source": [
    "#https://www.geeksforgeeks.org/find-if-there-is-a-path-between-two-vertices-in-a-given-graph/\n",
    "\n",
    "\n",
    "def path(graph,u,v): \n",
    "    visited = len(graph)*[False]\n",
    "    paths = []\n",
    "    DFS(graph,u,v,visited,[],paths)\n",
    "    return paths\n",
    "    \n",
    "def DFS(G,u,v,visited,path,paths):\n",
    "    print (str(u)+str(paths))\n",
    "    visited[u]=True\n",
    "    path.append(u)\n",
    "    print(u,path,v,u==v)\n",
    "    if u==v:\n",
    "        paths.append(path)\n",
    "        print (paths)\n",
    "    else:\n",
    "        for n in G[u]:\n",
    "            if visited[n]==False:\n",
    "                DFS(G,n,v,visited,path,paths)\n",
    "    # Remove current vertex from path[] and mark it as unvisited \n",
    "    path.pop() \n",
    "    visited[u]= False\n",
    "\n",
    "path(g.graph,0,2)\n"
   ]
  },
  {
   "cell_type": "code",
   "execution_count": 53,
   "metadata": {},
   "outputs": [
    {
     "data": {
      "text/plain": [
       "21"
      ]
     },
     "execution_count": 53,
     "metadata": {},
     "output_type": "execute_result"
    }
   ],
   "source": [
    "def reverse(num):\n",
    "        \"\"\"\n",
    "        :type x: int\n",
    "        :rtype: int\n",
    "        \"\"\"\n",
    "        count,ans =0,0\n",
    "        count_num = num\n",
    "        while count_num>0:\n",
    "            count_num = int(count_num/10)\n",
    "            count+=1\n",
    "        count-=1\n",
    "        while num>0:\n",
    "            last_digit = num%10\n",
    "            num = int(num/10)\n",
    "            ans = ans+(last_digit*(10**count))\n",
    "            count = count-1\n",
    "        return ans\n",
    "    \n",
    "reverse(120)"
   ]
  },
  {
   "cell_type": "code",
   "execution_count": null,
   "metadata": {},
   "outputs": [],
   "source": []
  }
 ],
 "metadata": {
  "kernelspec": {
   "display_name": "Python 3",
   "language": "python",
   "name": "python3"
  },
  "language_info": {
   "codemirror_mode": {
    "name": "ipython",
    "version": 3
   },
   "file_extension": ".py",
   "mimetype": "text/x-python",
   "name": "python",
   "nbconvert_exporter": "python",
   "pygments_lexer": "ipython3",
   "version": "3.6.1"
  }
 },
 "nbformat": 4,
 "nbformat_minor": 2
}
