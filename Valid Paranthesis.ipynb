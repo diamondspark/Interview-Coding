{
 "cells": [
  {
   "cell_type": "code",
   "execution_count": 10,
   "metadata": {},
   "outputs": [
    {
     "data": {
      "text/plain": [
       "False"
      ]
     },
     "execution_count": 10,
     "metadata": {},
     "output_type": "execute_result"
    }
   ],
   "source": [
    "def valid_paranthesis(string):\n",
    "    open_=['{','[','(']\n",
    "    close = ['}',']',')']\n",
    "    my_dict = dict(zip(open_,close))\n",
    "    stack = []\n",
    "    \n",
    "    for b in string:\n",
    "        if b in open_:\n",
    "            stack.append(b)\n",
    "        elif b in close:\n",
    "            print(b)\n",
    "            if len(stack)>0:\n",
    "                opening_b = stack.pop()\n",
    "                if my_dict[opening_b]!=b:\n",
    "                    return False\n",
    "            else:\n",
    "                return False\n",
    "    if len(stack)>0:\n",
    "        return False\n",
    "    return True\n",
    "valid_paranthesis('(')"
   ]
  },
  {
   "cell_type": "code",
   "execution_count": null,
   "metadata": {},
   "outputs": [],
   "source": []
  }
 ],
 "metadata": {
  "kernelspec": {
   "display_name": "Python 3",
   "language": "python",
   "name": "python3"
  },
  "language_info": {
   "codemirror_mode": {
    "name": "ipython",
    "version": 3
   },
   "file_extension": ".py",
   "mimetype": "text/x-python",
   "name": "python",
   "nbconvert_exporter": "python",
   "pygments_lexer": "ipython3",
   "version": "3.6.4"
  }
 },
 "nbformat": 4,
 "nbformat_minor": 2
}
