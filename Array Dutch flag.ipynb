{
 "cells": [
  {
   "cell_type": "markdown",
   "metadata": {},
   "source": [
    "Move zeros to end of array:\n",
    "https://www.geeksforgeeks.org/move-zeroes-end-array/"
   ]
  },
  {
   "cell_type": "code",
   "execution_count": 1,
   "metadata": {},
   "outputs": [
    {
     "data": {
      "text/plain": [
       "[5, 2, 1, 7, 8, 1, 2, 0, 0]"
      ]
     },
     "execution_count": 1,
     "metadata": {},
     "output_type": "execute_result"
    }
   ],
   "source": [
    "def push_zeros_to_end(arr):\n",
    "    count=0\n",
    "    for i in range(len(arr)):\n",
    "        if arr[i]!=0:\n",
    "            arr[count]=arr[i]\n",
    "            count+=1\n",
    "    for i in range(len(arr)-count):\n",
    "        arr[-(i+1)]=0\n",
    "        count-=1\n",
    "    return arr\n",
    "        \n",
    "push_zeros_to_end([5,2,1,7,0,8,1,0,2])"
   ]
  },
  {
   "cell_type": "markdown",
   "metadata": {},
   "source": [
    " Segregate 0's and 1's in an array   \n",
    "https://www.geeksforgeeks.org/segregate-0s-and-1s-in-an-array-by-traversing-array-once/"
   ]
  },
  {
   "cell_type": "code",
   "execution_count": null,
   "metadata": {},
   "outputs": [],
   "source": [
    "# def segregate_0_and_1(arr):\n",
    "    l,r = 0, len(arr)-1\n",
    "    while l<r:\n",
    "        while arr[l]!=1:\n",
    "            l+=1\n",
    "        while arr[r]!=0:\n",
    "            r-=1\n",
    "        if l<r:\n",
    "            arr=swap(arr,l,r)\n",
    "    return arr\n",
    "\n",
    "def swap (arr,l,r):\n",
    "    temp = arr[l]\n",
    "    arr[l]=arr[r]\n",
    "    arr[r]=temp\n",
    "    return arr\n",
    "\n",
    "segregate_0_and_1([1,0,0,0,1,0,1,0,1])"
   ]
  },
  {
   "cell_type": "markdown",
   "metadata": {},
   "source": [
    "Sort 0's 1's and 2's. Dutch national flag (Rattna h solution)\n",
    "https://coderbyte.com/algorithm/dutch-national-flag-sorting-problem"
   ]
  },
  {
   "cell_type": "code",
   "execution_count": 6,
   "metadata": {},
   "outputs": [
    {
     "data": {
      "text/plain": [
       "[0, 0, 0, 1, 1, 2, 2, 2]"
      ]
     },
     "execution_count": 6,
     "metadata": {},
     "output_type": "execute_result"
    }
   ],
   "source": [
    "def dutchNatFlag(arr):\n",
    "  \n",
    "  low = 0\n",
    "  mid = 0\n",
    "  high = len(arr) - 1\n",
    "  \n",
    "  # one pass through the array swapping\n",
    "  # the necessary elements in place\n",
    "  while mid <= high:\n",
    "    if arr[mid] == 0:\n",
    "      swap(arr, low, mid)\n",
    "      low += 1\n",
    "      mid += 1\n",
    "    elif arr[mid] == 2:\n",
    "      swap(arr, mid, high)\n",
    "      high -= 1\n",
    "    elif arr[mid] == 1:\n",
    "      mid += 1\n",
    "      \n",
    "  return arr\n",
    "\n",
    "dutchNatFlag([2,2,2,0,0,0,1,1]) "
   ]
  },
  {
   "cell_type": "code",
   "execution_count": null,
   "metadata": {},
   "outputs": [],
   "source": []
  }
 ],
 "metadata": {
  "kernelspec": {
   "display_name": "Python 3",
   "language": "python",
   "name": "python3"
  },
  "language_info": {
   "codemirror_mode": {
    "name": "ipython",
    "version": 3
   },
   "file_extension": ".py",
   "mimetype": "text/x-python",
   "name": "python",
   "nbconvert_exporter": "python",
   "pygments_lexer": "ipython3",
   "version": "3.6.4"
  }
 },
 "nbformat": 4,
 "nbformat_minor": 2
}
