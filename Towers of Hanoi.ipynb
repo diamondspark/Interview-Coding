{
 "cells": [
  {
   "cell_type": "markdown",
   "metadata": {},
   "source": [
    "Concept from CTCI. Straightforward implementation.  <br> Time = O(2**n) <br> Space: O(n)"
   ]
  },
  {
   "cell_type": "code",
   "execution_count": 5,
   "metadata": {},
   "outputs": [
    {
     "name": "stdout",
     "output_type": "stream",
     "text": [
      "[] [1, 2, 3, 4, 5, 6, 7, 8] []\n"
     ]
    }
   ],
   "source": [
    "def main(n = 8):\n",
    "    t1,t2,t3 = [k+1 for k in range(n)],[],[]\n",
    "    plate_move(n,source =t1,target =t2, buffer= t3)\n",
    "    print(t1,t2,t3)\n",
    "    \n",
    "def plate_move(n,source,target,buffer):\n",
    "    if n==1:\n",
    "        target.append(source.pop())\n",
    "        return\n",
    "    plate_move(n-1,source,buffer,target)\n",
    "    target.append(source.pop())\n",
    "    plate_move(n-1,buffer,target,source)\n",
    "    \n",
    "main()"
   ]
  },
  {
   "cell_type": "code",
   "execution_count": null,
   "metadata": {},
   "outputs": [],
   "source": []
  }
 ],
 "metadata": {
  "kernelspec": {
   "display_name": "Python 3",
   "language": "python",
   "name": "python3"
  },
  "language_info": {
   "codemirror_mode": {
    "name": "ipython",
    "version": 3
   },
   "file_extension": ".py",
   "mimetype": "text/x-python",
   "name": "python",
   "nbconvert_exporter": "python",
   "pygments_lexer": "ipython3",
   "version": "3.6.1"
  }
 },
 "nbformat": 4,
 "nbformat_minor": 2
}
