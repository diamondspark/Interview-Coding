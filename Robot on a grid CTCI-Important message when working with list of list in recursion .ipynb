{
 "cells": [
  {
   "cell_type": "markdown",
   "metadata": {},
   "source": [
    "# Recursive method"
   ]
  },
  {
   "cell_type": "code",
   "execution_count": 2,
   "metadata": {},
   "outputs": [],
   "source": [
    "import numpy as np"
   ]
  },
  {
   "cell_type": "code",
   "execution_count": 18,
   "metadata": {},
   "outputs": [
    {
     "data": {
      "text/plain": [
       "array([[1., 1.],\n",
       "       [1., 1.]])"
      ]
     },
     "execution_count": 18,
     "metadata": {},
     "output_type": "execute_result"
    }
   ],
   "source": [
    "arr = np.ones((2,2))\n",
    "arr"
   ]
  },
  {
   "cell_type": "markdown",
   "metadata": {},
   "source": [
    "Important message when working with list of list in recursion "
   ]
  },
  {
   "cell_type": "code",
   "execution_count": 4,
   "metadata": {},
   "outputs": [
    {
     "name": "stdout",
     "output_type": "stream",
     "text": [
      "[[1, 1], [0, 1], [0, 0]]\n",
      "[[1, 1], [1, 0], [0, 0]]\n"
     ]
    },
    {
     "data": {
      "text/plain": [
       "[[[1, 1], [0, 1], [0, 0]], [[1, 1], [1, 0], [0, 0]]]"
      ]
     },
     "execution_count": 4,
     "metadata": {},
     "output_type": "execute_result"
    }
   ],
   "source": [
    "def getPath(arr):\n",
    "    paths=[]\n",
    "    getPathHelper(arr, paths,[arr.shape[0]-1,arr.shape[0]-1])\n",
    "    return paths\n",
    "\n",
    "def getPathHelper(arr,paths,cur_loc,cur_path=[]):\n",
    "    r,c = cur_loc[0],cur_loc[1]\n",
    "    cur_path.append(cur_loc)\n",
    "\n",
    "    if r==c==0:\n",
    "        print(cur_path)\n",
    "        #key concept when working with list of list:\n",
    "        #Create a copy to append.\n",
    "        #Also notice use of pop() to recurse with 1 less element\n",
    "        paths.append(cur_path.copy())\n",
    "        cur_path.pop()\n",
    "        return cur_path\n",
    "    \n",
    "    elif r==0 and c>0:\n",
    "        cur_path= getPathHelper(arr,paths,[r,c-1],cur_path)\n",
    "    elif c==0 and r>0:\n",
    "        cur_path= getPathHelper(arr,paths,[r-1,c],cur_path)\n",
    "    else:\n",
    "        cur_path= getPathHelper(arr,paths,[r-1,c],cur_path)\n",
    "        cur_path= getPathHelper(arr,paths,[r,c-1],cur_path)\n",
    "        \n",
    "        \n",
    "    cur_path.pop()\n",
    "    return cur_path\n",
    "        \n",
    "getPath(arr)"
   ]
  },
  {
   "cell_type": "code",
   "execution_count": 21,
   "metadata": {},
   "outputs": [
    {
     "data": {
      "text/plain": [
       "[(0, 0), (1, 0), (1, 1)]"
      ]
     },
     "execution_count": 21,
     "metadata": {},
     "output_type": "execute_result"
    }
   ],
   "source": [
    "#CTCI Solution\n",
    "def getPath(maze):\n",
    "    if maze == None or len(maze) == 0:\n",
    "        return None\n",
    "    path = [] \n",
    "    if isPath(maze, len(maze)-1, len(maze[0])-1, path):\n",
    "        return path\n",
    "    return None\n",
    "\n",
    "def isPath(maze, row, col, path):\n",
    "    #if out of bounds or not available, return\n",
    "    if col < 0 or row < 0 or not maze[row][col]:\n",
    "        return False\n",
    "    \n",
    "    isAtOrigin = (row == 0) and (col == 0)\n",
    "\n",
    "    #if there's a path from the start to here, add my location\n",
    "    if isAtOrigin or isPath(maze, row, col-1, path) or isPath(maze, row-1, col,path):\n",
    "        point = (row,col)\n",
    "        path.append(point)\n",
    "        return True\n",
    "\n",
    "    return False\n",
    "\n",
    "getPath(arr.tolist())"
   ]
  },
  {
   "cell_type": "code",
   "execution_count": 10,
   "metadata": {},
   "outputs": [
    {
     "data": {
      "text/plain": [
       "0.0"
      ]
     },
     "execution_count": 10,
     "metadata": {},
     "output_type": "execute_result"
    }
   ],
   "source": [
    "arr.tolist() [0][1]"
   ]
  },
  {
   "cell_type": "markdown",
   "metadata": {},
   "source": [
    "## Dynammic Programming"
   ]
  },
  {
   "cell_type": "code",
   "execution_count": 22,
   "metadata": {},
   "outputs": [
    {
     "name": "stdout",
     "output_type": "stream",
     "text": [
      "[(0, 0), (1, 0), (1, 1)]\n"
     ]
    }
   ],
   "source": [
    "#Solution with memoization \n",
    "def getPathMemoized(maze):\n",
    "    if maze == None or len(maze) == 0:\n",
    "        return None\n",
    "    path = []\n",
    "    failedPoints = []\n",
    "    if isPathMemoized(maze, len(maze)-1, len(maze[0])-1, path, failedPoints):\n",
    "        return path\n",
    "    return None\n",
    "\n",
    "def isPathMemoized(maze, row, col, path, failedPoints):\n",
    "    #If out of bounds or not availabe, return\n",
    "    if col < 0 or row < 0 or not maze[row][col]:\n",
    "        return False\n",
    "    \n",
    "    point = (row,col)\n",
    "\n",
    "    # if we've already visisted this cell, return\n",
    "    if point in failedPoints:\n",
    "        return False\n",
    "\n",
    "    isAtOrigin = (row == 0) and (col == 0)\n",
    "\n",
    "    #If there's a path from start to my current location, add my location\n",
    "    if isAtOrigin or isPathMemoized(maze, row, col-1, path, failedPoints) or isPathMemoized(maze, row-1, col, path, failedPoints):\n",
    "        path.append(point)\n",
    "        return True\n",
    "\n",
    "    failedPoints.append(point) \n",
    "    return False\n",
    "\n",
    "print(getPathMemoized([[True,True], [True,True]]))\n"
   ]
  },
  {
   "cell_type": "code",
   "execution_count": null,
   "metadata": {},
   "outputs": [],
   "source": []
  }
 ],
 "metadata": {
  "kernelspec": {
   "display_name": "Python 3",
   "language": "python",
   "name": "python3"
  },
  "language_info": {
   "codemirror_mode": {
    "name": "ipython",
    "version": 3
   },
   "file_extension": ".py",
   "mimetype": "text/x-python",
   "name": "python",
   "nbconvert_exporter": "python",
   "pygments_lexer": "ipython3",
   "version": "3.6.4"
  }
 },
 "nbformat": 4,
 "nbformat_minor": 2
}
