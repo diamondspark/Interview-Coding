{
 "cells": [
  {
   "cell_type": "code",
   "execution_count": 1,
   "metadata": {},
   "outputs": [],
   "source": [
    "##Leetcode Graph def\n",
    "# class Node:\n",
    "#     def __init__(self,val,neighbors):\n",
    "#         self.val = val\n",
    "#         self.neighbors = neighbors"
   ]
  },
  {
   "cell_type": "code",
   "execution_count": 5,
   "metadata": {},
   "outputs": [],
   "source": [
    "## GeeksforGeeks graph def\n",
    "from collections import defaultdict \n",
    "\n",
    "class Graph: \n",
    "    def __init__(self): \n",
    "        self.graph = defaultdict(list)  \n",
    "    def addEdge(self,u,v): \n",
    "        self.graph[u].append(v)"
   ]
  },
  {
   "cell_type": "markdown",
   "metadata": {},
   "source": [
    "### Create graph to work on"
   ]
  },
  {
   "cell_type": "code",
   "execution_count": 32,
   "metadata": {},
   "outputs": [
    {
     "data": {
      "text/plain": [
       "defaultdict(list, {0: [1, 2], 1: [2], 2: [0, 3], 3: [3], 4: [4]})"
      ]
     },
     "execution_count": 32,
     "metadata": {},
     "output_type": "execute_result"
    }
   ],
   "source": [
    "g = Graph() \n",
    "g.addEdge(0, 1) \n",
    "g.addEdge(0, 2) \n",
    "g.addEdge(1, 2) \n",
    "g.addEdge(2, 0) \n",
    "g.addEdge(2, 3) \n",
    "g.addEdge(3, 3) \n",
    "g.addEdge(4, 4) \n",
    "g.graph"
   ]
  },
  {
   "cell_type": "markdown",
   "metadata": {},
   "source": [
    "### Recursive DFS when graph is connected "
   ]
  },
  {
   "cell_type": "markdown",
   "metadata": {},
   "source": [
    "Start from any 1 node n and for all unvisited neighbour nodes (nodes in adjaceny list of n), recuse"
   ]
  },
  {
   "cell_type": "code",
   "execution_count": 33,
   "metadata": {},
   "outputs": [
    {
     "name": "stdout",
     "output_type": "stream",
     "text": [
      "2\n",
      "0\n",
      "1\n",
      "3\n"
     ]
    }
   ],
   "source": [
    "def DFS(G):\n",
    "    visited = [False]*len(G.graph)\n",
    "    start_node = list(g.graph.keys())[2]\n",
    "    DFSUtil(G,visited,start_node)\n",
    "    \n",
    "def DFSUtil(G,visited,u): #u:start node\n",
    "    visited[u]=True\n",
    "    print (u)\n",
    "    for n in G.graph[u]: # n is neigbor in adj list of u\n",
    "        if visited[n]==False:\n",
    "            DFSUtil(G,visited,n)\n",
    "        \n",
    "DFS(g)"
   ]
  },
  {
   "cell_type": "markdown",
   "metadata": {},
   "source": [
    "### Recursive DFS when graph is dis-connected "
   ]
  },
  {
   "cell_type": "markdown",
   "metadata": {},
   "source": [
    "The starting node would be each of the possible node in the graph. Start from each unvisited node and do dfs like above"
   ]
  },
  {
   "cell_type": "code",
   "execution_count": 35,
   "metadata": {},
   "outputs": [
    {
     "name": "stdout",
     "output_type": "stream",
     "text": [
      "0\n",
      "1\n",
      "2\n",
      "3\n",
      "4\n"
     ]
    }
   ],
   "source": [
    "def DFS(G):\n",
    "    visited = [False]*len(G.graph)\n",
    "    possible_start_nodes = list(g.graph.keys())\n",
    "    for start_node in possible_start_nodes:\n",
    "        if visited[start_node]==False:\n",
    "            DFSUtil(G,visited,start_node)\n",
    "            \n",
    "def DFSUtil(G,visited,u): #u:start node\n",
    "    visited[u]=True\n",
    "    print (u)\n",
    "    for n in G.graph[u]: # n is neigbor in adj list of u\n",
    "        if visited[n]==False:\n",
    "            DFSUtil(G,visited,n)\n",
    "            \n",
    "DFS(g)"
   ]
  },
  {
   "cell_type": "markdown",
   "metadata": {},
   "source": [
    "## BFS - Queue"
   ]
  },
  {
   "cell_type": "code",
   "execution_count": 41,
   "metadata": {},
   "outputs": [
    {
     "name": "stdout",
     "output_type": "stream",
     "text": [
      "[1, 2, 3, 4]\n",
      "[1, 2, 3, 4, 5]\n",
      "5\n",
      "[1, 2, 3, 4]\n",
      "deque([1, 2, 3, 4, 5])\n",
      "1\n",
      "deque([2, 3, 4, 5])\n"
     ]
    }
   ],
   "source": [
    "queue = [1,2,3,4]\n",
    "print(queue)\n",
    "queue.append(5)\n",
    "print(queue)\n",
    "print(queue.pop())\n",
    "print(queue)\n",
    "\n",
    "from collections import deque\n",
    "queue = deque([1,2,3])\n",
    "queue.append(4)\n",
    "queue.append(5)\n",
    "print(queue)\n",
    "print(queue.popleft())\n",
    "print(queue)\n",
    "\n"
   ]
  },
  {
   "cell_type": "code",
   "execution_count": 54,
   "metadata": {},
   "outputs": [
    {
     "data": {
      "text/plain": [
       "['A', 'B', 'C', 'E', 'D', 'F', 'G']"
      ]
     },
     "execution_count": 54,
     "metadata": {},
     "output_type": "execute_result"
    }
   ],
   "source": [
    "graph = {'A': ['B', 'C', 'E'],\n",
    "         'B': ['A','D', 'E'],\n",
    "         'C': ['A', 'F', 'G'],\n",
    "         'D': ['B','E'],\n",
    "         'E': ['A', 'B','D'],\n",
    "         'F': ['C'],\n",
    "         'G': ['C']}\n",
    "\n",
    "# visits all the nodes of a graph (connected component) using BFS\n",
    "def bfs_connected_component(graph, start):\n",
    "    # keep track of all visited nodes\n",
    "    explored = []\n",
    "    # keep track of nodes to be checked\n",
    "    queue = [start]\n",
    " \n",
    "    # keep looping until there are nodes still to be checked\n",
    "    while queue:\n",
    "        # pop shallowest node (first node) from queue\n",
    "        node = queue.pop(0)\n",
    "        if node not in explored:\n",
    "            # add node to list of checked nodes\n",
    "            explored.append(node)\n",
    "            neighbours = graph[node]\n",
    " \n",
    "            # add neighbours of node to queue\n",
    "            for neighbour in neighbours:\n",
    "                queue.append(neighbour)\n",
    "    return explored\n",
    " \n",
    "bfs_connected_component(graph,'A')\n"
   ]
  },
  {
   "cell_type": "markdown",
   "metadata": {},
   "source": [
    "Pseudo code:  Edit cell to see indentated \n",
    "\n",
    "start node,\n",
    "put in queue,set it as visited  \n",
    "while q not empty:  \n",
    "    node= first node in queue  \n",
    "    if node not visited:  \n",
    "        print and visit this node  \n",
    "        add neighbors to the queue  "
   ]
  },
  {
   "cell_type": "code",
   "execution_count": 68,
   "metadata": {},
   "outputs": [
    {
     "name": "stdout",
     "output_type": "stream",
     "text": [
      "deque(['B', 'C', 'E', 'P']) ['A']\n",
      "deque(['C', 'E', 'P', 'A', 'E']) ['A', 'B']\n",
      "deque(['E', 'P', 'A', 'E', 'A', 'F', 'G']) ['A', 'B', 'C']\n",
      "deque(['P', 'A', 'E', 'A', 'F', 'G', 'A', 'B', 'D']) ['A', 'B', 'C', 'E']\n",
      "deque(['A', 'E', 'A', 'F', 'G', 'A', 'B', 'D', 'Q']) ['A', 'B', 'C', 'E', 'P']\n",
      "deque(['E', 'A', 'F', 'G', 'A', 'B', 'D', 'Q']) ['A', 'B', 'C', 'E', 'P']\n",
      "deque(['A', 'F', 'G', 'A', 'B', 'D', 'Q']) ['A', 'B', 'C', 'E', 'P']\n",
      "deque(['F', 'G', 'A', 'B', 'D', 'Q']) ['A', 'B', 'C', 'E', 'P']\n",
      "deque(['G', 'A', 'B', 'D', 'Q', 'C', 'D']) ['A', 'B', 'C', 'E', 'P', 'F']\n",
      "deque(['A', 'B', 'D', 'Q', 'C', 'D', 'C']) ['A', 'B', 'C', 'E', 'P', 'F', 'G']\n",
      "deque(['B', 'D', 'Q', 'C', 'D', 'C']) ['A', 'B', 'C', 'E', 'P', 'F', 'G']\n",
      "deque(['D', 'Q', 'C', 'D', 'C']) ['A', 'B', 'C', 'E', 'P', 'F', 'G']\n",
      "deque(['Q', 'C', 'D', 'C', 'E', 'F']) ['A', 'B', 'C', 'E', 'P', 'F', 'G', 'D']\n",
      "deque(['C', 'D', 'C', 'E', 'F', 'P']) ['A', 'B', 'C', 'E', 'P', 'F', 'G', 'D', 'Q']\n",
      "deque(['D', 'C', 'E', 'F', 'P']) ['A', 'B', 'C', 'E', 'P', 'F', 'G', 'D', 'Q']\n",
      "deque(['C', 'E', 'F', 'P']) ['A', 'B', 'C', 'E', 'P', 'F', 'G', 'D', 'Q']\n",
      "deque(['E', 'F', 'P']) ['A', 'B', 'C', 'E', 'P', 'F', 'G', 'D', 'Q']\n",
      "deque(['F', 'P']) ['A', 'B', 'C', 'E', 'P', 'F', 'G', 'D', 'Q']\n",
      "deque(['P']) ['A', 'B', 'C', 'E', 'P', 'F', 'G', 'D', 'Q']\n",
      "deque([]) ['A', 'B', 'C', 'E', 'P', 'F', 'G', 'D', 'Q']\n"
     ]
    },
    {
     "data": {
      "text/plain": [
       "['A', 'B', 'C', 'E', 'P', 'F', 'G', 'D', 'Q']"
      ]
     },
     "execution_count": 68,
     "metadata": {},
     "output_type": "execute_result"
    }
   ],
   "source": [
    "from collections import deque\n",
    "def bfs(graph,s): #s:start\n",
    "    queue = deque(s)\n",
    "    visited = []\n",
    "    while len(queue)>0:\n",
    "        e = queue.popleft()\n",
    "        if e not in visited:\n",
    "            visited.append(e)\n",
    "            for n in graph[e]:\n",
    "                queue.append(n)\n",
    "        print(queue,visited)\n",
    "    return visited\n",
    "\n",
    "bfs(graph,'A')"
   ]
  },
  {
   "cell_type": "markdown",
   "metadata": {},
   "source": [
    "## Shortest distance between 2 nodes in the graph using BFS"
   ]
  },
  {
   "cell_type": "code",
   "execution_count": 66,
   "metadata": {},
   "outputs": [
    {
     "data": {
      "text/plain": [
       "['A', 'B', 'C', 'E', 'D']"
      ]
     },
     "execution_count": 66,
     "metadata": {},
     "output_type": "execute_result"
    }
   ],
   "source": [
    "def shortest(g,s,e):\n",
    "    visited=[]\n",
    "    queue= deque(s)\n",
    "    while(len(queue)>0):\n",
    "        node = queue.popleft()\n",
    "        if node not in visited:\n",
    "            visited.append(node)\n",
    "            for n in graph[node]:\n",
    "                if n==e:\n",
    "                    visited.append(e)\n",
    "                    return visited\n",
    "                queue.append(n)\n",
    "                \n",
    "    return visited\n",
    "\n",
    "\n",
    "\n",
    "graph = {'A': ['B', 'C', 'E','P'],\n",
    "         'B': ['A', 'E'],\n",
    "         'C': ['A', 'F', 'G'],\n",
    "         'D': ['E','F'],\n",
    "         'E': ['A', 'B','D'],\n",
    "         'F': ['C','D'],\n",
    "         'G': ['C'],\n",
    "        'P': ['Q'],\n",
    "        'Q': ['P']}\n",
    "shortest(graph,'A','D')"
   ]
  },
  {
   "cell_type": "code",
   "execution_count": null,
   "metadata": {},
   "outputs": [],
   "source": []
  }
 ],
 "metadata": {
  "kernelspec": {
   "display_name": "Python 3",
   "language": "python",
   "name": "python3"
  },
  "language_info": {
   "codemirror_mode": {
    "name": "ipython",
    "version": 3
   },
   "file_extension": ".py",
   "mimetype": "text/x-python",
   "name": "python",
   "nbconvert_exporter": "python",
   "pygments_lexer": "ipython3",
   "version": "3.6.1"
  }
 },
 "nbformat": 4,
 "nbformat_minor": 2
}
