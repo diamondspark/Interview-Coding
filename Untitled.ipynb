{
 "cells": [
  {
   "cell_type": "code",
   "execution_count": 8,
   "metadata": {},
   "outputs": [
    {
     "data": {
      "text/plain": [
       "3"
      ]
     },
     "execution_count": 8,
     "metadata": {},
     "output_type": "execute_result"
    }
   ],
   "source": [
    "def create_freq(self,arr):\n",
    "    my_dict={}\n",
    "    for e in arr:\n",
    "        if e in my_dict:\n",
    "            my_dict[e]+=1\n",
    "        else:\n",
    "            my_dict[e]=1\n",
    "    return my_dict\n",
    "\n",
    "def distribute_candies(self,arr):\n",
    "    n = len(arr)\n",
    "    count=0\n",
    "    freq= self.create_freq(arr)\n",
    "    for key in freq.keys():\n",
    "        count+=freq[key]-1\n",
    "        freq[key]=1\n",
    "        if count==int(n/2):\n",
    "            return freq\n",
    "    while(count!=int(n/2)):\n",
    "        freq.pop(key)\n",
    "        count+=1\n",
    "    return freq\n",
    "\n",
    "def main(arr):\n",
    "    return len(self.distribute_candies(arr))\n",
    "\n",
    "main([100000,0,100000,0,100000,0,100000,0,100000,0,100000,0])"
   ]
  },
  {
   "cell_type": "code",
   "execution_count": 7,
   "metadata": {},
   "outputs": [
    {
     "data": {
      "text/plain": [
       "{2: 3}"
      ]
     },
     "execution_count": 7,
     "metadata": {},
     "output_type": "execute_result"
    }
   ],
   "source": [
    "my_dict.pop(1)\n",
    "my_dict"
   ]
  },
  {
   "cell_type": "code",
   "execution_count": 12,
   "metadata": {},
   "outputs": [
    {
     "data": {
      "text/plain": [
       "(2, 2.4)"
      ]
     },
     "execution_count": 12,
     "metadata": {},
     "output_type": "execute_result"
    }
   ],
   "source": [
    "int(12/5), int(12)/5"
   ]
  },
  {
   "cell_type": "code",
   "execution_count": 17,
   "metadata": {},
   "outputs": [
    {
     "data": {
      "text/plain": [
       "5"
      ]
     },
     "execution_count": 17,
     "metadata": {},
     "output_type": "execute_result"
    }
   ],
   "source": [
    "class Solution():\n",
    "    def check_dups(self,arr):\n",
    "        ct=0\n",
    "        ct = self.count_dups(arr,0,len(arr)-1,ct)\n",
    "        return len(arr)-ct\n",
    "\n",
    "    def count_dups(self,arr,l,r,ct):\n",
    "        if l==r:\n",
    "            return ct\n",
    "        mid = int((l+r)/2)\n",
    "        if (mid-1)>=l:\n",
    "            if arr[mid-1]==arr[mid]:\n",
    "                ct+=1\n",
    "            ct=self.count_dups(arr,l,mid-1,ct)\n",
    "\n",
    "        if arr[mid+1]==arr[mid]:\n",
    "            ct+=1\n",
    "        ct = self.count_dups(arr,mid+1,r,ct)\n",
    "        return ct\n",
    "\n",
    "Solution().check_dups([1,1,1,1,2,2,2,3,4,5])"
   ]
  },
  {
   "cell_type": "code",
   "execution_count": 19,
   "metadata": {},
   "outputs": [
    {
     "name": "stdout",
     "output_type": "stream",
     "text": [
      "1\n",
      "2\n",
      "3\n"
     ]
    }
   ],
   "source": [
    "nums1=[1,2,3]\n",
    "nums2=[4,5,6,7]\n",
    "for n in nums1 if len(nums1)<len(nums2) else nums2:\n",
    "    print (n)"
   ]
  },
  {
   "cell_type": "code",
   "execution_count": null,
   "metadata": {},
   "outputs": [],
   "source": [
    "# Definition for a binary tree node.\n",
    "class TreeNode(object):\n",
    "    def __init__(self, x):\n",
    "        self.val = x\n",
    "        self.left = None\n",
    "        self.right = None\n",
    "\n",
    "class Solution(object):\n",
    "    def lowestCommonAncestor(self, root, p, q):\n",
    "        \"\"\"\n",
    "        :type root: TreeNode\n",
    "        :type p: TreeNode\n",
    "        :type q: TreeNode\n",
    "        :rtype: TreeNode\n",
    "        \"\"\"\n",
    "        self.ppresent,self.qpresent=False,False\n",
    "        lca = self.findLCA(root,p,q)\n",
    "        if self.ppresent and self.qpresent:\n",
    "            return lca\n",
    "        \n",
    "    def findLCA(self,root,p,q):\n",
    "        if root==None:\n",
    "            return\n",
    "        if root ==p:\n",
    "            self.ppresent=True\n",
    "            return root\n",
    "        if root==q:\n",
    "            self.qpresent=True\n",
    "            return root\n",
    "        \n",
    "        left = self.findLCA(root.left,p,q)\n",
    "        right = self.findLCA(root.right,p,q)\n",
    "        \n",
    "        if left!=None and right!=None:\n",
    "            return root\n",
    "        \n",
    "        if left==None and right!=None:\n",
    "            return right\n",
    "        \n",
    "        if right==None and left!=None:\n",
    "            return left\n",
    "        "
   ]
  }
 ],
 "metadata": {
  "kernelspec": {
   "display_name": "Python 3",
   "language": "python",
   "name": "python3"
  },
  "language_info": {
   "codemirror_mode": {
    "name": "ipython",
    "version": 3
   },
   "file_extension": ".py",
   "mimetype": "text/x-python",
   "name": "python",
   "nbconvert_exporter": "python",
   "pygments_lexer": "ipython3",
   "version": "3.6.1"
  }
 },
 "nbformat": 4,
 "nbformat_minor": 2
}
