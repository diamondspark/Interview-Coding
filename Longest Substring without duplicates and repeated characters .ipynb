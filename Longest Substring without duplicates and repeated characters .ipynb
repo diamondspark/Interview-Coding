{
 "cells": [
  {
   "cell_type": "markdown",
   "metadata": {},
   "source": [
    "http://blog.gainlo.co/index.php/2016/10/07/facebook-interview-longest-substring-without-repeating-characters/  --- ignore this part. Read the solution in this link. It fails for 'dvdf' as he is trying to solve a different problem. \n",
    "Refer lSwRC for correct solution. We try to start from each starting index."
   ]
  },
  {
   "cell_type": "code",
   "execution_count": 36,
   "metadata": {},
   "outputs": [],
   "source": [
    "def lSwDC(string):\n",
    "    max_len,max_str=0,''\n",
    "    my_list=[]\n",
    "    s,e=0,0\n",
    "    cur_len =0\n",
    "    \n",
    "    while(e<len(string)):\n",
    "        if not string[e] in my_list:\n",
    "            my_list.append(string[e])\n",
    "            cur_len+=1\n",
    "            e+=1\n",
    "        else:\n",
    "            del my_list[0:len(my_list)]\n",
    "            if cur_len>max_len:\n",
    "                max_len,max_str= cur_len,string[s:e]\n",
    "            cur_len=0\n",
    "            s=e\n",
    "    if cur_len>max_len:\n",
    "        max_len=cur_len\n",
    "        max_str=string[s:e]\n",
    "        \n",
    "    return max_len,max_str\n",
    "    "
   ]
  },
  {
   "cell_type": "code",
   "execution_count": 37,
   "metadata": {},
   "outputs": [
    {
     "data": {
      "text/plain": [
       "(2, 'dv')"
      ]
     },
     "execution_count": 37,
     "metadata": {},
     "output_type": "execute_result"
    }
   ],
   "source": [
    "lSwDC('dvdf')"
   ]
  },
  {
   "cell_type": "code",
   "execution_count": 40,
   "metadata": {},
   "outputs": [],
   "source": [
    "def lSwRC(string):\n",
    "    max_len,max_str=0,''\n",
    "    my_list=[]\n",
    "    s,e=0,0\n",
    "    cur_len =0\n",
    "    \n",
    "    while(e<len(string)and s<len(string)):\n",
    "        if not string[e] in my_list:\n",
    "            my_list.append(string[e])\n",
    "            cur_len+=1\n",
    "            e+=1\n",
    "        else:\n",
    "            del my_list[0:len(my_list)]\n",
    "            if cur_len>max_len:\n",
    "                max_len,max_str= cur_len,string[s:e]\n",
    "            cur_len=0\n",
    "            s=s+1 # this n following line different\n",
    "            e=s\n",
    "    if cur_len>max_len:\n",
    "        max_len=cur_len\n",
    "        max_str=string[s:e]\n",
    "        \n",
    "    return max_len,max_str\n",
    "    "
   ]
  },
  {
   "cell_type": "code",
   "execution_count": 42,
   "metadata": {},
   "outputs": [
    {
     "data": {
      "text/plain": [
       "(4, 'bcae')"
      ]
     },
     "execution_count": 42,
     "metadata": {},
     "output_type": "execute_result"
    }
   ],
   "source": [
    "lSwRC('abcbcae')"
   ]
  },
  {
   "cell_type": "code",
   "execution_count": null,
   "metadata": {},
   "outputs": [],
   "source": []
  }
 ],
 "metadata": {
  "kernelspec": {
   "display_name": "Python 3",
   "language": "python",
   "name": "python3"
  },
  "language_info": {
   "codemirror_mode": {
    "name": "ipython",
    "version": 3
   },
   "file_extension": ".py",
   "mimetype": "text/x-python",
   "name": "python",
   "nbconvert_exporter": "python",
   "pygments_lexer": "ipython3",
   "version": "3.6.1"
  }
 },
 "nbformat": 4,
 "nbformat_minor": 2
}
