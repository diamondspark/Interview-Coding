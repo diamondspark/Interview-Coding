{
 "cells": [
  {
   "cell_type": "code",
   "execution_count": 1,
   "metadata": {},
   "outputs": [],
   "source": [
    "##Leetcode Graph def\n",
    "# class Node:\n",
    "#     def __init__(self,val,neighbors):\n",
    "#         self.val = val\n",
    "#         self.neighbors = neighbors"
   ]
  },
  {
   "cell_type": "code",
   "execution_count": 5,
   "metadata": {},
   "outputs": [],
   "source": [
    "## GeeksforGeeks graph def\n",
    "from collections import defaultdict \n",
    "\n",
    "class Graph: \n",
    "    def __init__(self): \n",
    "        self.graph = defaultdict(list)  \n",
    "    def addEdge(self,u,v): \n",
    "        self.graph[u].append(v)"
   ]
  },
  {
   "cell_type": "markdown",
   "metadata": {},
   "source": [
    "### Create graph to work on"
   ]
  },
  {
   "cell_type": "code",
   "execution_count": 32,
   "metadata": {},
   "outputs": [
    {
     "data": {
      "text/plain": [
       "defaultdict(list, {0: [1, 2], 1: [2], 2: [0, 3], 3: [3], 4: [4]})"
      ]
     },
     "execution_count": 32,
     "metadata": {},
     "output_type": "execute_result"
    }
   ],
   "source": [
    "g = Graph() \n",
    "g.addEdge(0, 1) \n",
    "g.addEdge(0, 2) \n",
    "g.addEdge(1, 2) \n",
    "g.addEdge(2, 0) \n",
    "g.addEdge(2, 3) \n",
    "g.addEdge(3, 3) \n",
    "g.addEdge(4, 4) \n",
    "g.graph"
   ]
  },
  {
   "cell_type": "markdown",
   "metadata": {},
   "source": [
    "### Recursive DFS when graph is connected "
   ]
  },
  {
   "cell_type": "markdown",
   "metadata": {},
   "source": [
    "Start from any 1 node n and for all unvisited neighbour nodes (nodes in adjaceny list of n), recuse"
   ]
  },
  {
   "cell_type": "code",
   "execution_count": 33,
   "metadata": {},
   "outputs": [
    {
     "name": "stdout",
     "output_type": "stream",
     "text": [
      "2\n",
      "0\n",
      "1\n",
      "3\n"
     ]
    }
   ],
   "source": [
    "def DFS(G):\n",
    "    visited = [False]*len(G.graph)\n",
    "    start_node = list(g.graph.keys())[2]\n",
    "    DFSUtil(G,visited,start_node)\n",
    "    \n",
    "def DFSUtil(G,visited,u): #u:start node\n",
    "    visited[u]=True\n",
    "    print (u)\n",
    "    for n in G.graph[u]: # n is neigbor in adj list of u\n",
    "        if visited[n]==False:\n",
    "            DFSUtil(G,visited,n)\n",
    "        \n",
    "DFS(g)"
   ]
  },
  {
   "cell_type": "markdown",
   "metadata": {},
   "source": [
    "### Recursive DFS when graph is dis-connected "
   ]
  },
  {
   "cell_type": "markdown",
   "metadata": {},
   "source": [
    "The starting node would be each of the possible node in the graph. Start from each unvisited node and do dfs like above"
   ]
  },
  {
   "cell_type": "code",
   "execution_count": 35,
   "metadata": {},
   "outputs": [
    {
     "name": "stdout",
     "output_type": "stream",
     "text": [
      "0\n",
      "1\n",
      "2\n",
      "3\n",
      "4\n"
     ]
    }
   ],
   "source": [
    "def DFS(G):\n",
    "    visited = [False]*len(G.graph)\n",
    "    possible_start_nodes = list(g.graph.keys())\n",
    "    for start_node in possible_start_nodes:\n",
    "        if visited[start_node]==False:\n",
    "            DFSUtil(G,visited,start_node)\n",
    "            \n",
    "def DFSUtil(G,visited,u): #u:start node\n",
    "    visited[u]=True\n",
    "    print (u)\n",
    "    for n in G.graph[u]: # n is neigbor in adj list of u\n",
    "        if visited[n]==False:\n",
    "            DFSUtil(G,visited,n)\n",
    "            \n",
    "DFS(g)"
   ]
  },
  {
   "cell_type": "code",
   "execution_count": null,
   "metadata": {},
   "outputs": [],
   "source": []
  }
 ],
 "metadata": {
  "kernelspec": {
   "display_name": "Python 3",
   "language": "python",
   "name": "python3"
  },
  "language_info": {
   "codemirror_mode": {
    "name": "ipython",
    "version": 3
   },
   "file_extension": ".py",
   "mimetype": "text/x-python",
   "name": "python",
   "nbconvert_exporter": "python",
   "pygments_lexer": "ipython3",
   "version": "3.6.1"
  }
 },
 "nbformat": 4,
 "nbformat_minor": 2
}
