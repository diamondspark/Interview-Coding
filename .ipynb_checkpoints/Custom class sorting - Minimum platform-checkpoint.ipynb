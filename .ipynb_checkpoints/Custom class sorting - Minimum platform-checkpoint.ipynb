{
 "cells": [
  {
   "cell_type": "markdown",
   "metadata": {},
   "source": [
    "https://www.geeksforgeeks.org/minimum-number-platforms-required-railwaybus-station/"
   ]
  },
  {
   "cell_type": "code",
   "execution_count": 16,
   "metadata": {},
   "outputs": [],
   "source": [
    "class Travel(object):\n",
    "    def __init__(self,time,direction):\n",
    "        self.time = time\n",
    "        self.direction = direction\n",
    "        \n",
    "#     def __lt__(self,other):\n",
    "#         return self.time-other.time\n",
    "        \n",
    "def compare (item1,item2):\n",
    "    return item1.time-item2.time"
   ]
  },
  {
   "cell_type": "code",
   "execution_count": 27,
   "metadata": {},
   "outputs": [],
   "source": [
    "import functools\n",
    "def minimum_platform(arrival_arr, dept_arr):\n",
    "    combined_arr=[]\n",
    "    p,min_p=0,0\n",
    "    for t in zip(arrival_arr,dept_arr):\n",
    "        travel_arr = Travel(t[0],'arrival')\n",
    "        travel_dept = Travel(t[1],'departure')\n",
    "        combined_arr.append(travel_arr)\n",
    "        combined_arr.append(travel_dept)\n",
    "#     method1 to sort custom class-- by writing compare method\n",
    "    sorted_combined_arr = sorted(combined_arr,key=functools.cmp_to_key(compare))\n",
    "#     method2 to to sort custom class-- by writing __ls__ method\n",
    "#     sorted_combined_arr = sorted(combined_arr)\n",
    "\n",
    "    for i in range(len(sorted_combined_arr)):\n",
    "        if sorted_combined_arr[i].direction == 'arrival':\n",
    "            p+=1\n",
    "        else:\n",
    "            p-=1\n",
    "        if p>min_p:\n",
    "            min_p=p\n",
    "\n",
    "\n",
    "    return min_p"
   ]
  },
  {
   "cell_type": "code",
   "execution_count": 28,
   "metadata": {},
   "outputs": [
    {
     "data": {
      "text/plain": [
       "3"
      ]
     },
     "execution_count": 28,
     "metadata": {},
     "output_type": "execute_result"
    }
   ],
   "source": [
    "arrival = [900,  940, 950,  1100, 1500, 1800]\n",
    "dept = [910, 1200, 1120, 1130, 1900, 2000]\n",
    "minimum_platform(arrival,dept)\n",
    "    "
   ]
  },
  {
   "cell_type": "markdown",
   "metadata": {},
   "source": [
    "### Without creating a new combined array "
   ]
  },
  {
   "cell_type": "code",
   "execution_count": null,
   "metadata": {},
   "outputs": [],
   "source": [
    "Didnt do"
   ]
  }
 ],
 "metadata": {
  "kernelspec": {
   "display_name": "Python 3",
   "language": "python",
   "name": "python3"
  },
  "language_info": {
   "codemirror_mode": {
    "name": "ipython",
    "version": 3
   },
   "file_extension": ".py",
   "mimetype": "text/x-python",
   "name": "python",
   "nbconvert_exporter": "python",
   "pygments_lexer": "ipython3",
   "version": "3.6.4"
  }
 },
 "nbformat": 4,
 "nbformat_minor": 2
}
