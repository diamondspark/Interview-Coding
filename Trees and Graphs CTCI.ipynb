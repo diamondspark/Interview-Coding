{
 "cells": [
  {
   "cell_type": "markdown",
   "metadata": {},
   "source": [
    "# 1. Lowest common ancestor"
   ]
  },
  {
   "cell_type": "markdown",
   "metadata": {},
   "source": [
    "### Without node to parent and both nodes present"
   ]
  },
  {
   "cell_type": "markdown",
   "metadata": {},
   "source": [
    "This is the basic idea: Geekforgeeks  \n",
    "The idea is to traverse the tree starting from root. If any of the given keys (n1 and n2) matches with root, then root is LCA (assuming that both keys are present). If root doesn’t match with any of the keys, we recur for left and right subtree. The node which has one key present in its left subtree and the other key present in right subtree is the LCA. If both keys lie in left subtree, then left subtree has LCA also, otherwise LCA lies in right subtree.\n"
   ]
  },
  {
   "cell_type": "code",
   "execution_count": null,
   "metadata": {},
   "outputs": [],
   "source": [
    "# T: O(n)\n",
    "# S: O(depth of tree)    \n",
    "def findLCA(root, n1,n2):\n",
    "    if root == None:\n",
    "        return\n",
    "    if root==n1 or root==n2:\n",
    "        return root\n",
    "    \n",
    "    left = findLCA(root.left,n1,n2)\n",
    "    right = findLCA(root.right,n1,n2)\n",
    "    \n",
    "    if left!=None and right!=None:  #both sides not none, n1 and n2 are on either side of this node\n",
    "        return root\n",
    "    \n",
    "    if left==None and right!=None:  #return that side which is not none\n",
    "        return right\n",
    "    \n",
    "    if left!=None and right==None:\n",
    "        return left\n",
    "    "
   ]
  },
  {
   "cell_type": "markdown",
   "metadata": {},
   "source": [
    "### One or both nodes might not be present\n",
    "n1present is set as true when n1 is present in tree and n2present is set as true if n2 is present in tree.  If n1 and n2 are direct ancestor children (4,null,6,null,7) (for n1=6,n2=7), we would do find for children of 6 to make sure 7 is present."
   ]
  },
  {
   "cell_type": "code",
   "execution_count": 2,
   "metadata": {},
   "outputs": [],
   "source": [
    "class Solution(object):\n",
    "    def lowestCommonAncestor(self, root, p, q):\n",
    "        \"\"\"\n",
    "        :type root: TreeNode\n",
    "        :type p: TreeNode\n",
    "        :type q: TreeNode\n",
    "        :rtype: TreeNode\n",
    "        \"\"\"\n",
    "        self.ppresent,self.qpresent=False,False\n",
    "        lca = self.findLCA(root,p,q)\n",
    "        if self.ppresent and self.qpresent or self.ppresent and self.find(root,q) or self.qpresent and self.find(root,p):\n",
    "            return lca\n",
    "        \n",
    "    def findLCA(self,root,p,q):\n",
    "        if root==None:\n",
    "            return\n",
    "        if root ==p:\n",
    "            self.ppresent=True\n",
    "            return root\n",
    "        if root==q:\n",
    "            self.qpresent=True\n",
    "            return root\n",
    "        \n",
    "        left = self.findLCA(root.left,p,q)\n",
    "        right = self.findLCA(root.right,p,q)\n",
    "        \n",
    "        if left!=None and right!=None:\n",
    "            return root\n",
    "        \n",
    "        if left==None and right!=None:\n",
    "            return right\n",
    "        \n",
    "        if right==None and left!=None:\n",
    "            return left\n",
    "        \n",
    "\n",
    "    def find(self,root,node_to_find):\n",
    "        if root==None:\n",
    "            return False\n",
    "        if root.val ==node_to_find.val:\n",
    "            return True\n",
    "        return self.find(root.left,node_to_find) or self.find(root.right,node_to_find)"
   ]
  },
  {
   "cell_type": "markdown",
   "metadata": {},
   "source": [
    "### When LCA For BST, find first n such that n is between n1 and n2"
   ]
  },
  {
   "cell_type": "markdown",
   "metadata": {},
   "source": [
    "### LCA With pointer to parent node"
   ]
  },
  {
   "cell_type": "markdown",
   "metadata": {},
   "source": [
    "# 2. Topological Sort handling cycles and disconnected graphs"
   ]
  },
  {
   "cell_type": "code",
   "execution_count": 6,
   "metadata": {},
   "outputs": [
    {
     "data": {
      "text/plain": [
       "'Cycle present'"
      ]
     },
     "execution_count": 6,
     "metadata": {},
     "output_type": "execute_result"
    }
   ],
   "source": [
    "graph = {\n",
    "\"a\": [\"b\", \"c\", \"d\"],\n",
    "\"b\": [],\n",
    "\"c\": [\"d\"],\n",
    "\"d\": [\"a\"]\n",
    "}\n",
    "\n",
    "class Topological_Sort():\n",
    "    def __init__(self,graph):\n",
    "        self.graph=graph\n",
    "        \n",
    "    def main(self):\n",
    "        self.state = {node: 0 for node in self.graph}  #0:white:unvisited, 1:gray:visiting, 2:black:visited\n",
    "        self.result=[]                            #Stores topollogical order\n",
    "        self.cycle=False\n",
    "        \n",
    "        for node in self.graph:                  #starting from each node in graph hence handling disconnected graphs\n",
    "            if self.state[node]==0:\n",
    "                self.topological_sort(node)\n",
    "                \n",
    "        if self.cycle:\n",
    "            return \"Cycle present\"\n",
    "        else:\n",
    "            return self.result[::-1]\n",
    "        \n",
    "    def topological_sort(self,start_node):\n",
    "        self.state[start_node]=1\n",
    "        \n",
    "        for neighbor in self.graph[start_node]:   #all neighbors have 3 opitons, visited,visitng,unvisited.\n",
    "            if self.state[neighbor]==2: \n",
    "                continue     #Already visited. In typical DFS we check if neighbor is visited, if so, we dont recurse for\n",
    "                             #such nodes.\n",
    "            if self.state[neighbor]==1:\n",
    "                self.cycle=True\n",
    "                return\n",
    "            \n",
    "            else:                          #This is an unvisited (white:0) neighbor, we recurse and try to visit this\n",
    "                self.topological_sort(neighbor)  \n",
    "                \n",
    "        self.state[start_node]=2      #completely finished visitng this node and now this node can be put in our topo order\n",
    "        self.result.append(start_node)\n",
    "        \n",
    "        \n",
    "Topological_Sort(graph).main()"
   ]
  },
  {
   "cell_type": "markdown",
   "metadata": {},
   "source": [
    "# 3. Inorder successor of BST with parent pointer"
   ]
  },
  {
   "cell_type": "markdown",
   "metadata": {},
   "source": [
    "GeeksforGeeks idea: 3 possible cases  \n",
    "1. Right Subtree not null: RETURN smallest (leftmost) element in Right subtree. \n",
    "2. Right subtree is null: Keep going up until there's a node which is left child of parent. RETURN Parent of such child  \n",
    "3. Else: the given node is biggest in the BST, RETURN NONE"
   ]
  },
  {
   "cell_type": "code",
   "execution_count": null,
   "metadata": {},
   "outputs": [],
   "source": []
  }
 ],
 "metadata": {
  "kernelspec": {
   "display_name": "Python 3",
   "language": "python",
   "name": "python3"
  },
  "language_info": {
   "codemirror_mode": {
    "name": "ipython",
    "version": 3
   },
   "file_extension": ".py",
   "mimetype": "text/x-python",
   "name": "python",
   "nbconvert_exporter": "python",
   "pygments_lexer": "ipython3",
   "version": "3.6.1"
  }
 },
 "nbformat": 4,
 "nbformat_minor": 2
}
